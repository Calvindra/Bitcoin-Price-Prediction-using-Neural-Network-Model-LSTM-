{
 "cells": [
  {
   "cell_type": "markdown",
   "id": "cd7c0a4d",
   "metadata": {},
   "source": [
    "# Import Library"
   ]
  },
  {
   "cell_type": "code",
   "execution_count": 98,
   "id": "648e324f",
   "metadata": {},
   "outputs": [],
   "source": [
    "import pandas as pd\n",
    "import matplotlib.pyplot as plt\n",
    "import numpy as np\n",
    "from sklearn.model_selection import train_test_split\n",
    "#from pycaret.regression import *\n",
    "from sklearn.preprocessing import MinMaxScaler\n",
    "from sklearn.metrics import mean_squared_error\n",
    "from sklearn import preprocessing\n",
    "from keras.models import Sequential\n",
    "from keras.layers import Dense\n",
    "from keras.layers import LSTM\n",
    "from keras.layers import Dropout\n",
    "from tensorflow.keras.optimizers import Adam\n",
    "import math"
   ]
  },
  {
   "cell_type": "code",
   "execution_count": 73,
   "id": "fa16f600",
   "metadata": {},
   "outputs": [
    {
     "data": {
      "text/html": [
       "<div>\n",
       "<style scoped>\n",
       "    .dataframe tbody tr th:only-of-type {\n",
       "        vertical-align: middle;\n",
       "    }\n",
       "\n",
       "    .dataframe tbody tr th {\n",
       "        vertical-align: top;\n",
       "    }\n",
       "\n",
       "    .dataframe thead th {\n",
       "        text-align: right;\n",
       "    }\n",
       "</style>\n",
       "<table border=\"1\" class=\"dataframe\">\n",
       "  <thead>\n",
       "    <tr style=\"text-align: right;\">\n",
       "      <th></th>\n",
       "      <th>Date</th>\n",
       "      <th>Open</th>\n",
       "      <th>High</th>\n",
       "      <th>Low</th>\n",
       "      <th>Close</th>\n",
       "      <th>Adj Close</th>\n",
       "      <th>Volume</th>\n",
       "    </tr>\n",
       "  </thead>\n",
       "  <tbody>\n",
       "    <tr>\n",
       "      <th>0</th>\n",
       "      <td>2014-09-17</td>\n",
       "      <td>465.864014</td>\n",
       "      <td>468.174011</td>\n",
       "      <td>452.421997</td>\n",
       "      <td>457.334015</td>\n",
       "      <td>457.334015</td>\n",
       "      <td>21056800</td>\n",
       "    </tr>\n",
       "    <tr>\n",
       "      <th>1</th>\n",
       "      <td>2014-09-18</td>\n",
       "      <td>456.859985</td>\n",
       "      <td>456.859985</td>\n",
       "      <td>413.104004</td>\n",
       "      <td>424.440002</td>\n",
       "      <td>424.440002</td>\n",
       "      <td>34483200</td>\n",
       "    </tr>\n",
       "    <tr>\n",
       "      <th>2</th>\n",
       "      <td>2014-09-19</td>\n",
       "      <td>424.102997</td>\n",
       "      <td>427.834991</td>\n",
       "      <td>384.532013</td>\n",
       "      <td>394.795990</td>\n",
       "      <td>394.795990</td>\n",
       "      <td>37919700</td>\n",
       "    </tr>\n",
       "    <tr>\n",
       "      <th>3</th>\n",
       "      <td>2014-09-20</td>\n",
       "      <td>394.673004</td>\n",
       "      <td>423.295990</td>\n",
       "      <td>389.882996</td>\n",
       "      <td>408.903992</td>\n",
       "      <td>408.903992</td>\n",
       "      <td>36863600</td>\n",
       "    </tr>\n",
       "    <tr>\n",
       "      <th>4</th>\n",
       "      <td>2014-09-21</td>\n",
       "      <td>408.084991</td>\n",
       "      <td>412.425995</td>\n",
       "      <td>393.181000</td>\n",
       "      <td>398.821014</td>\n",
       "      <td>398.821014</td>\n",
       "      <td>26580100</td>\n",
       "    </tr>\n",
       "  </tbody>\n",
       "</table>\n",
       "</div>"
      ],
      "text/plain": [
       "         Date        Open        High         Low       Close   Adj Close  \\\n",
       "0  2014-09-17  465.864014  468.174011  452.421997  457.334015  457.334015   \n",
       "1  2014-09-18  456.859985  456.859985  413.104004  424.440002  424.440002   \n",
       "2  2014-09-19  424.102997  427.834991  384.532013  394.795990  394.795990   \n",
       "3  2014-09-20  394.673004  423.295990  389.882996  408.903992  408.903992   \n",
       "4  2014-09-21  408.084991  412.425995  393.181000  398.821014  398.821014   \n",
       "\n",
       "     Volume  \n",
       "0  21056800  \n",
       "1  34483200  \n",
       "2  37919700  \n",
       "3  36863600  \n",
       "4  26580100  "
      ]
     },
     "execution_count": 73,
     "metadata": {},
     "output_type": "execute_result"
    }
   ],
   "source": [
    "df= pd.read_csv('BTC-USD.csv')\n",
    "pd.set_option('display.max_columns', None)\n",
    "df.head()"
   ]
  },
  {
   "cell_type": "markdown",
   "id": "c5e7d0a4",
   "metadata": {},
   "source": [
    "# Preprocessing and Cleaning"
   ]
  },
  {
   "cell_type": "code",
   "execution_count": 74,
   "id": "0afdf64c",
   "metadata": {},
   "outputs": [
    {
     "name": "stdout",
     "output_type": "stream",
     "text": [
      "<class 'pandas.core.frame.DataFrame'>\n",
      "RangeIndex: 2747 entries, 0 to 2746\n",
      "Data columns (total 7 columns):\n",
      " #   Column     Non-Null Count  Dtype  \n",
      "---  ------     --------------  -----  \n",
      " 0   Date       2747 non-null   object \n",
      " 1   Open       2747 non-null   float64\n",
      " 2   High       2747 non-null   float64\n",
      " 3   Low        2747 non-null   float64\n",
      " 4   Close      2747 non-null   float64\n",
      " 5   Adj Close  2747 non-null   float64\n",
      " 6   Volume     2747 non-null   int64  \n",
      "dtypes: float64(5), int64(1), object(1)\n",
      "memory usage: 150.4+ KB\n"
     ]
    }
   ],
   "source": [
    "df.info()"
   ]
  },
  {
   "cell_type": "code",
   "execution_count": 75,
   "id": "e709c27b",
   "metadata": {},
   "outputs": [],
   "source": [
    "df['Date'] = pd.to_datetime(df['Date'], errors='coerce')"
   ]
  },
  {
   "cell_type": "code",
   "execution_count": 76,
   "id": "9be3b86e",
   "metadata": {},
   "outputs": [
    {
     "data": {
      "text/plain": [
       "Date         0\n",
       "Open         0\n",
       "High         0\n",
       "Low          0\n",
       "Close        0\n",
       "Adj Close    0\n",
       "Volume       0\n",
       "dtype: int64"
      ]
     },
     "execution_count": 76,
     "metadata": {},
     "output_type": "execute_result"
    }
   ],
   "source": [
    "df.isnull().sum()"
   ]
  },
  {
   "cell_type": "code",
   "execution_count": 77,
   "id": "12391619",
   "metadata": {},
   "outputs": [
    {
     "data": {
      "text/plain": [
       "0"
      ]
     },
     "execution_count": 77,
     "metadata": {},
     "output_type": "execute_result"
    }
   ],
   "source": [
    "df.duplicated().sum()"
   ]
  },
  {
   "cell_type": "code",
   "execution_count": 78,
   "id": "53dbad04",
   "metadata": {},
   "outputs": [
    {
     "data": {
      "text/html": [
       "<div>\n",
       "<style scoped>\n",
       "    .dataframe tbody tr th:only-of-type {\n",
       "        vertical-align: middle;\n",
       "    }\n",
       "\n",
       "    .dataframe tbody tr th {\n",
       "        vertical-align: top;\n",
       "    }\n",
       "\n",
       "    .dataframe thead th {\n",
       "        text-align: right;\n",
       "    }\n",
       "</style>\n",
       "<table border=\"1\" class=\"dataframe\">\n",
       "  <thead>\n",
       "    <tr style=\"text-align: right;\">\n",
       "      <th></th>\n",
       "      <th>Open</th>\n",
       "      <th>High</th>\n",
       "      <th>Low</th>\n",
       "      <th>Close</th>\n",
       "      <th>Adj Close</th>\n",
       "      <th>Volume</th>\n",
       "    </tr>\n",
       "  </thead>\n",
       "  <tbody>\n",
       "    <tr>\n",
       "      <th>count</th>\n",
       "      <td>2747.000000</td>\n",
       "      <td>2747.000000</td>\n",
       "      <td>2747.000000</td>\n",
       "      <td>2747.000000</td>\n",
       "      <td>2747.000000</td>\n",
       "      <td>2.747000e+03</td>\n",
       "    </tr>\n",
       "    <tr>\n",
       "      <th>mean</th>\n",
       "      <td>11668.600272</td>\n",
       "      <td>11981.034949</td>\n",
       "      <td>11325.596907</td>\n",
       "      <td>11682.892098</td>\n",
       "      <td>11682.892098</td>\n",
       "      <td>1.484704e+10</td>\n",
       "    </tr>\n",
       "    <tr>\n",
       "      <th>std</th>\n",
       "      <td>16323.683853</td>\n",
       "      <td>16759.568657</td>\n",
       "      <td>15825.584507</td>\n",
       "      <td>16330.191582</td>\n",
       "      <td>16330.191582</td>\n",
       "      <td>1.994819e+10</td>\n",
       "    </tr>\n",
       "    <tr>\n",
       "      <th>min</th>\n",
       "      <td>176.897003</td>\n",
       "      <td>211.731003</td>\n",
       "      <td>171.509995</td>\n",
       "      <td>178.102997</td>\n",
       "      <td>178.102997</td>\n",
       "      <td>5.914570e+06</td>\n",
       "    </tr>\n",
       "    <tr>\n",
       "      <th>25%</th>\n",
       "      <td>609.122009</td>\n",
       "      <td>611.894501</td>\n",
       "      <td>606.309479</td>\n",
       "      <td>609.234009</td>\n",
       "      <td>609.234009</td>\n",
       "      <td>8.161285e+07</td>\n",
       "    </tr>\n",
       "    <tr>\n",
       "      <th>50%</th>\n",
       "      <td>6371.850098</td>\n",
       "      <td>6500.870117</td>\n",
       "      <td>6285.629883</td>\n",
       "      <td>6376.709961</td>\n",
       "      <td>6376.709961</td>\n",
       "      <td>5.227550e+09</td>\n",
       "    </tr>\n",
       "    <tr>\n",
       "      <th>75%</th>\n",
       "      <td>10728.271485</td>\n",
       "      <td>10992.468751</td>\n",
       "      <td>10412.890137</td>\n",
       "      <td>10755.395019</td>\n",
       "      <td>10755.395019</td>\n",
       "      <td>2.500517e+10</td>\n",
       "    </tr>\n",
       "    <tr>\n",
       "      <th>max</th>\n",
       "      <td>67549.734375</td>\n",
       "      <td>68789.625000</td>\n",
       "      <td>66382.062500</td>\n",
       "      <td>67566.828125</td>\n",
       "      <td>67566.828125</td>\n",
       "      <td>3.509679e+11</td>\n",
       "    </tr>\n",
       "  </tbody>\n",
       "</table>\n",
       "</div>"
      ],
      "text/plain": [
       "               Open          High           Low         Close     Adj Close  \\\n",
       "count   2747.000000   2747.000000   2747.000000   2747.000000   2747.000000   \n",
       "mean   11668.600272  11981.034949  11325.596907  11682.892098  11682.892098   \n",
       "std    16323.683853  16759.568657  15825.584507  16330.191582  16330.191582   \n",
       "min      176.897003    211.731003    171.509995    178.102997    178.102997   \n",
       "25%      609.122009    611.894501    606.309479    609.234009    609.234009   \n",
       "50%     6371.850098   6500.870117   6285.629883   6376.709961   6376.709961   \n",
       "75%    10728.271485  10992.468751  10412.890137  10755.395019  10755.395019   \n",
       "max    67549.734375  68789.625000  66382.062500  67566.828125  67566.828125   \n",
       "\n",
       "             Volume  \n",
       "count  2.747000e+03  \n",
       "mean   1.484704e+10  \n",
       "std    1.994819e+10  \n",
       "min    5.914570e+06  \n",
       "25%    8.161285e+07  \n",
       "50%    5.227550e+09  \n",
       "75%    2.500517e+10  \n",
       "max    3.509679e+11  "
      ]
     },
     "execution_count": 78,
     "metadata": {},
     "output_type": "execute_result"
    }
   ],
   "source": [
    "df.describe()"
   ]
  },
  {
   "cell_type": "markdown",
   "id": "c48a2204",
   "metadata": {},
   "source": [
    "# Scaling Data"
   ]
  },
  {
   "cell_type": "code",
   "execution_count": 79,
   "id": "8f182b63",
   "metadata": {},
   "outputs": [],
   "source": [
    "df= df[\"Close\"]"
   ]
  },
  {
   "cell_type": "code",
   "execution_count": 80,
   "id": "c6df6d71",
   "metadata": {},
   "outputs": [
    {
     "data": {
      "text/plain": [
       "array([  457.334,   424.44 ,   394.796, ..., 42892.957, 43960.934,\n",
       "       44395.965], dtype=float32)"
      ]
     },
     "execution_count": 80,
     "metadata": {},
     "output_type": "execute_result"
    }
   ],
   "source": [
    "## Mengubah bentuknya kedalam numpy array \n",
    "dataset = df.values\n",
    "dataset = dataset.astype('float32')\n",
    "dataset"
   ]
  },
  {
   "cell_type": "code",
   "execution_count": 81,
   "id": "81c12181",
   "metadata": {},
   "outputs": [
    {
     "data": {
      "text/plain": [
       "array([[0.00414359],\n",
       "       [0.00365546],\n",
       "       [0.00321557],\n",
       "       ...,\n",
       "       [0.63385758],\n",
       "       [0.64970558],\n",
       "       [0.65616113]])"
      ]
     },
     "execution_count": 81,
     "metadata": {},
     "output_type": "execute_result"
    }
   ],
   "source": [
    "min_max_scaler = preprocessing.MinMaxScaler(feature_range=(0, 1))\n",
    "dataset = min_max_scaler.fit_transform(df.values.reshape(-1, 1))\n",
    "dataset"
   ]
  },
  {
   "cell_type": "code",
   "execution_count": 82,
   "id": "eaf7731f",
   "metadata": {},
   "outputs": [
    {
     "name": "stdout",
     "output_type": "stream",
     "text": [
      "1840 907\n"
     ]
    }
   ],
   "source": [
    "train_size = int(len(dataset) * 0.67)\n",
    "test_size = len(dataset) - train_size\n",
    "train, test = dataset[0:train_size, :], dataset[train_size:len(dataset), :]\n",
    "print(len(train), len(test))"
   ]
  },
  {
   "cell_type": "code",
   "execution_count": 83,
   "id": "3d3d8461",
   "metadata": {},
   "outputs": [],
   "source": [
    "# convert an array of values into a dataset matrix\n",
    "def create_dataset(dataset, look_back=1):\n",
    "  dataX, dataY = [], []\n",
    "  for i in range(len(dataset)-look_back-1):\n",
    "    a = dataset[i:(i+look_back), 0]\n",
    "    dataX.append(a)\n",
    "    dataY.append(dataset[i + look_back, 0])\n",
    "  return np.array(dataX), np.array(dataY)"
   ]
  },
  {
   "cell_type": "code",
   "execution_count": 84,
   "id": "dd4d4aee",
   "metadata": {},
   "outputs": [],
   "source": [
    "look_back = 10\n",
    "trainX, trainY = create_dataset(train, look_back=look_back)\n",
    "testX, testY = create_dataset(test, look_back=look_back)"
   ]
  },
  {
   "cell_type": "code",
   "execution_count": 85,
   "id": "b1c519ef",
   "metadata": {},
   "outputs": [
    {
     "data": {
      "text/plain": [
       "array([[0.00414359, 0.00365546, 0.00321557, ..., 0.00363714, 0.00346454,\n",
       "        0.00335845],\n",
       "       [0.00365546, 0.00321557, 0.00342492, ..., 0.00346454, 0.00335845,\n",
       "        0.00328567],\n",
       "       [0.00321557, 0.00342492, 0.0032753 , ..., 0.00335845, 0.00328567,\n",
       "        0.00295417],\n",
       "       ...,\n",
       "       [0.14933017, 0.14869171, 0.14970326, ..., 0.12528006, 0.12329793,\n",
       "        0.1178367 ],\n",
       "       [0.14869171, 0.14970326, 0.14844529, ..., 0.12329793, 0.1178367 ,\n",
       "        0.11980851],\n",
       "       [0.14970326, 0.14844529, 0.14604244, ..., 0.1178367 , 0.11980851,\n",
       "        0.1197205 ]])"
      ]
     },
     "execution_count": 85,
     "metadata": {},
     "output_type": "execute_result"
    }
   ],
   "source": [
    "trainX"
   ]
  },
  {
   "cell_type": "code",
   "execution_count": 86,
   "id": "af77a229",
   "metadata": {},
   "outputs": [
    {
     "data": {
      "text/plain": [
       "array([0.00328567, 0.00295417, 0.00292874, ..., 0.11980851, 0.1197205 ,\n",
       "       0.11761734])"
      ]
     },
     "execution_count": 86,
     "metadata": {},
     "output_type": "execute_result"
    }
   ],
   "source": [
    "trainY"
   ]
  },
  {
   "cell_type": "code",
   "execution_count": 87,
   "id": "5d8680c6",
   "metadata": {},
   "outputs": [],
   "source": [
    "# reshape input to be [samples, time steps, features]\n",
    "trainX = np.reshape(trainX, (trainX.shape[0], 1, trainX.shape[1]))\n",
    "testX = np.reshape(testX, (testX.shape[0], 1, testX.shape[1]))"
   ]
  },
  {
   "cell_type": "markdown",
   "id": "98d4d1a1",
   "metadata": {},
   "source": [
    "# Build Model"
   ]
  },
  {
   "cell_type": "code",
   "execution_count": 90,
   "id": "1b1d1179",
   "metadata": {},
   "outputs": [
    {
     "name": "stdout",
     "output_type": "stream",
     "text": [
      "Epoch 1/100\n",
      "8/8 - 3s - loss: 5.7965e-04 - 3s/epoch - 408ms/step\n",
      "Epoch 2/100\n",
      "8/8 - 0s - loss: 3.4155e-04 - 17ms/epoch - 2ms/step\n",
      "Epoch 3/100\n",
      "8/8 - 0s - loss: 2.7875e-04 - 17ms/epoch - 2ms/step\n",
      "Epoch 4/100\n",
      "8/8 - 0s - loss: 1.9201e-04 - 16ms/epoch - 2ms/step\n",
      "Epoch 5/100\n",
      "8/8 - 0s - loss: 1.3757e-04 - 17ms/epoch - 2ms/step\n",
      "Epoch 6/100\n",
      "8/8 - 0s - loss: 1.0249e-04 - 17ms/epoch - 2ms/step\n",
      "Epoch 7/100\n",
      "8/8 - 0s - loss: 8.0258e-05 - 16ms/epoch - 2ms/step\n",
      "Epoch 8/100\n",
      "8/8 - 0s - loss: 7.0613e-05 - 17ms/epoch - 2ms/step\n",
      "Epoch 9/100\n",
      "8/8 - 0s - loss: 6.7098e-05 - 17ms/epoch - 2ms/step\n",
      "Epoch 10/100\n",
      "8/8 - 0s - loss: 6.6522e-05 - 16ms/epoch - 2ms/step\n",
      "Epoch 11/100\n",
      "8/8 - 0s - loss: 6.6268e-05 - 16ms/epoch - 2ms/step\n",
      "Epoch 12/100\n",
      "8/8 - 0s - loss: 6.5878e-05 - 16ms/epoch - 2ms/step\n",
      "Epoch 13/100\n",
      "8/8 - 0s - loss: 6.5883e-05 - 17ms/epoch - 2ms/step\n",
      "Epoch 14/100\n",
      "8/8 - 0s - loss: 6.5222e-05 - 18ms/epoch - 2ms/step\n",
      "Epoch 15/100\n",
      "8/8 - 0s - loss: 6.5066e-05 - 17ms/epoch - 2ms/step\n",
      "Epoch 16/100\n",
      "8/8 - 0s - loss: 6.5396e-05 - 17ms/epoch - 2ms/step\n",
      "Epoch 17/100\n",
      "8/8 - 0s - loss: 6.4544e-05 - 17ms/epoch - 2ms/step\n",
      "Epoch 18/100\n",
      "8/8 - 0s - loss: 6.4450e-05 - 16ms/epoch - 2ms/step\n",
      "Epoch 19/100\n",
      "8/8 - 0s - loss: 6.3982e-05 - 16ms/epoch - 2ms/step\n",
      "Epoch 20/100\n",
      "8/8 - 0s - loss: 6.3590e-05 - 17ms/epoch - 2ms/step\n",
      "Epoch 21/100\n",
      "8/8 - 0s - loss: 6.3299e-05 - 17ms/epoch - 2ms/step\n",
      "Epoch 22/100\n",
      "8/8 - 0s - loss: 6.3209e-05 - 16ms/epoch - 2ms/step\n",
      "Epoch 23/100\n",
      "8/8 - 0s - loss: 6.2996e-05 - 17ms/epoch - 2ms/step\n",
      "Epoch 24/100\n",
      "8/8 - 0s - loss: 6.2473e-05 - 17ms/epoch - 2ms/step\n",
      "Epoch 25/100\n",
      "8/8 - 0s - loss: 6.2012e-05 - 18ms/epoch - 2ms/step\n",
      "Epoch 26/100\n",
      "8/8 - 0s - loss: 6.1692e-05 - 17ms/epoch - 2ms/step\n",
      "Epoch 27/100\n",
      "8/8 - 0s - loss: 6.1384e-05 - 20ms/epoch - 3ms/step\n",
      "Epoch 28/100\n",
      "8/8 - 0s - loss: 6.1062e-05 - 18ms/epoch - 2ms/step\n",
      "Epoch 29/100\n",
      "8/8 - 0s - loss: 6.1013e-05 - 17ms/epoch - 2ms/step\n",
      "Epoch 30/100\n",
      "8/8 - 0s - loss: 6.1247e-05 - 17ms/epoch - 2ms/step\n",
      "Epoch 31/100\n",
      "8/8 - 0s - loss: 6.0400e-05 - 18ms/epoch - 2ms/step\n",
      "Epoch 32/100\n",
      "8/8 - 0s - loss: 5.9652e-05 - 16ms/epoch - 2ms/step\n",
      "Epoch 33/100\n",
      "8/8 - 0s - loss: 5.9270e-05 - 17ms/epoch - 2ms/step\n",
      "Epoch 34/100\n",
      "8/8 - 0s - loss: 5.9099e-05 - 18ms/epoch - 2ms/step\n",
      "Epoch 35/100\n",
      "8/8 - 0s - loss: 5.8690e-05 - 18ms/epoch - 2ms/step\n",
      "Epoch 36/100\n",
      "8/8 - 0s - loss: 5.8243e-05 - 18ms/epoch - 2ms/step\n",
      "Epoch 37/100\n",
      "8/8 - 0s - loss: 5.7858e-05 - 18ms/epoch - 2ms/step\n",
      "Epoch 38/100\n",
      "8/8 - 0s - loss: 5.7515e-05 - 17ms/epoch - 2ms/step\n",
      "Epoch 39/100\n",
      "8/8 - 0s - loss: 5.7241e-05 - 21ms/epoch - 3ms/step\n",
      "Epoch 40/100\n",
      "8/8 - 0s - loss: 5.7311e-05 - 21ms/epoch - 3ms/step\n",
      "Epoch 41/100\n",
      "8/8 - 0s - loss: 5.6804e-05 - 21ms/epoch - 3ms/step\n",
      "Epoch 42/100\n",
      "8/8 - 0s - loss: 5.5982e-05 - 23ms/epoch - 3ms/step\n",
      "Epoch 43/100\n",
      "8/8 - 0s - loss: 5.5754e-05 - 19ms/epoch - 2ms/step\n",
      "Epoch 44/100\n",
      "8/8 - 0s - loss: 5.5349e-05 - 20ms/epoch - 3ms/step\n",
      "Epoch 45/100\n",
      "8/8 - 0s - loss: 5.5255e-05 - 17ms/epoch - 2ms/step\n",
      "Epoch 46/100\n",
      "8/8 - 0s - loss: 5.4765e-05 - 17ms/epoch - 2ms/step\n",
      "Epoch 47/100\n",
      "8/8 - 0s - loss: 5.4253e-05 - 18ms/epoch - 2ms/step\n",
      "Epoch 48/100\n",
      "8/8 - 0s - loss: 5.3870e-05 - 17ms/epoch - 2ms/step\n",
      "Epoch 49/100\n",
      "8/8 - 0s - loss: 5.3446e-05 - 18ms/epoch - 2ms/step\n",
      "Epoch 50/100\n",
      "8/8 - 0s - loss: 5.3542e-05 - 18ms/epoch - 2ms/step\n",
      "Epoch 51/100\n",
      "8/8 - 0s - loss: 5.3012e-05 - 18ms/epoch - 2ms/step\n",
      "Epoch 52/100\n",
      "8/8 - 0s - loss: 5.3083e-05 - 16ms/epoch - 2ms/step\n",
      "Epoch 53/100\n",
      "8/8 - 0s - loss: 5.2059e-05 - 19ms/epoch - 2ms/step\n",
      "Epoch 54/100\n",
      "8/8 - 0s - loss: 5.1666e-05 - 19ms/epoch - 2ms/step\n",
      "Epoch 55/100\n",
      "8/8 - 0s - loss: 5.1189e-05 - 20ms/epoch - 3ms/step\n",
      "Epoch 56/100\n",
      "8/8 - 0s - loss: 5.1203e-05 - 21ms/epoch - 3ms/step\n",
      "Epoch 57/100\n",
      "8/8 - 0s - loss: 5.1114e-05 - 17ms/epoch - 2ms/step\n",
      "Epoch 58/100\n",
      "8/8 - 0s - loss: 5.0373e-05 - 16ms/epoch - 2ms/step\n",
      "Epoch 59/100\n",
      "8/8 - 0s - loss: 5.0230e-05 - 18ms/epoch - 2ms/step\n",
      "Epoch 60/100\n",
      "8/8 - 0s - loss: 4.9095e-05 - 19ms/epoch - 2ms/step\n",
      "Epoch 61/100\n",
      "8/8 - 0s - loss: 4.8929e-05 - 22ms/epoch - 3ms/step\n",
      "Epoch 62/100\n",
      "8/8 - 0s - loss: 4.8241e-05 - 16ms/epoch - 2ms/step\n",
      "Epoch 63/100\n",
      "8/8 - 0s - loss: 4.8504e-05 - 16ms/epoch - 2ms/step\n",
      "Epoch 64/100\n",
      "8/8 - 0s - loss: 4.8076e-05 - 17ms/epoch - 2ms/step\n",
      "Epoch 65/100\n",
      "8/8 - 0s - loss: 4.7777e-05 - 16ms/epoch - 2ms/step\n",
      "Epoch 66/100\n",
      "8/8 - 0s - loss: 4.7296e-05 - 17ms/epoch - 2ms/step\n",
      "Epoch 67/100\n",
      "8/8 - 0s - loss: 4.6761e-05 - 17ms/epoch - 2ms/step\n",
      "Epoch 68/100\n",
      "8/8 - 0s - loss: 4.6173e-05 - 16ms/epoch - 2ms/step\n",
      "Epoch 69/100\n",
      "8/8 - 0s - loss: 4.5506e-05 - 16ms/epoch - 2ms/step\n",
      "Epoch 70/100\n",
      "8/8 - 0s - loss: 4.5185e-05 - 16ms/epoch - 2ms/step\n",
      "Epoch 71/100\n",
      "8/8 - 0s - loss: 4.4534e-05 - 16ms/epoch - 2ms/step\n",
      "Epoch 72/100\n",
      "8/8 - 0s - loss: 4.4222e-05 - 17ms/epoch - 2ms/step\n",
      "Epoch 73/100\n",
      "8/8 - 0s - loss: 4.3797e-05 - 17ms/epoch - 2ms/step\n",
      "Epoch 74/100\n",
      "8/8 - 0s - loss: 4.4610e-05 - 16ms/epoch - 2ms/step\n",
      "Epoch 75/100\n",
      "8/8 - 0s - loss: 4.4206e-05 - 17ms/epoch - 2ms/step\n",
      "Epoch 76/100\n",
      "8/8 - 0s - loss: 4.3783e-05 - 17ms/epoch - 2ms/step\n",
      "Epoch 77/100\n",
      "8/8 - 0s - loss: 4.4525e-05 - 16ms/epoch - 2ms/step\n",
      "Epoch 78/100\n",
      "8/8 - 0s - loss: 4.3256e-05 - 16ms/epoch - 2ms/step\n",
      "Epoch 79/100\n",
      "8/8 - 0s - loss: 4.2678e-05 - 17ms/epoch - 2ms/step\n",
      "Epoch 80/100\n",
      "8/8 - 0s - loss: 4.1511e-05 - 17ms/epoch - 2ms/step\n",
      "Epoch 81/100\n",
      "8/8 - 0s - loss: 4.0719e-05 - 18ms/epoch - 2ms/step\n",
      "Epoch 82/100\n",
      "8/8 - 0s - loss: 4.0301e-05 - 18ms/epoch - 2ms/step\n",
      "Epoch 83/100\n",
      "8/8 - 0s - loss: 3.9653e-05 - 18ms/epoch - 2ms/step\n",
      "Epoch 84/100\n",
      "8/8 - 0s - loss: 3.9261e-05 - 18ms/epoch - 2ms/step\n",
      "Epoch 85/100\n",
      "8/8 - 0s - loss: 3.8984e-05 - 17ms/epoch - 2ms/step\n",
      "Epoch 86/100\n",
      "8/8 - 0s - loss: 3.8460e-05 - 16ms/epoch - 2ms/step\n",
      "Epoch 87/100\n",
      "8/8 - 0s - loss: 3.8607e-05 - 16ms/epoch - 2ms/step\n",
      "Epoch 88/100\n",
      "8/8 - 0s - loss: 3.7619e-05 - 19ms/epoch - 2ms/step\n",
      "Epoch 89/100\n",
      "8/8 - 0s - loss: 3.7096e-05 - 17ms/epoch - 2ms/step\n",
      "Epoch 90/100\n",
      "8/8 - 0s - loss: 3.6918e-05 - 16ms/epoch - 2ms/step\n",
      "Epoch 91/100\n",
      "8/8 - 0s - loss: 3.6905e-05 - 17ms/epoch - 2ms/step\n",
      "Epoch 92/100\n",
      "8/8 - 0s - loss: 3.6219e-05 - 17ms/epoch - 2ms/step\n",
      "Epoch 93/100\n",
      "8/8 - 0s - loss: 3.6199e-05 - 17ms/epoch - 2ms/step\n",
      "Epoch 94/100\n",
      "8/8 - 0s - loss: 3.5371e-05 - 17ms/epoch - 2ms/step\n",
      "Epoch 95/100\n",
      "8/8 - 0s - loss: 3.4966e-05 - 16ms/epoch - 2ms/step\n",
      "Epoch 96/100\n",
      "8/8 - 0s - loss: 3.4661e-05 - 16ms/epoch - 2ms/step\n",
      "Epoch 97/100\n",
      "8/8 - 0s - loss: 3.4316e-05 - 17ms/epoch - 2ms/step\n",
      "Epoch 98/100\n",
      "8/8 - 0s - loss: 3.3778e-05 - 16ms/epoch - 2ms/step\n",
      "Epoch 99/100\n",
      "8/8 - 0s - loss: 3.3549e-05 - 16ms/epoch - 2ms/step\n",
      "Epoch 100/100\n",
      "8/8 - 0s - loss: 3.3083e-05 - 16ms/epoch - 2ms/step\n"
     ]
    },
    {
     "data": {
      "text/plain": [
       "<keras.callbacks.History at 0x14dbb81c610>"
      ]
     },
     "execution_count": 90,
     "metadata": {},
     "output_type": "execute_result"
    }
   ],
   "source": [
    "model = Sequential()\n",
    "model.add(LSTM(4, input_shape=(1, look_back)))\n",
    "model.add(Dense(1))\n",
    "model.compile(loss='mean_squared_error', optimizer='adam')\n",
    "model.fit(trainX, trainY, epochs=100, batch_size=256, verbose=2)"
   ]
  },
  {
   "cell_type": "markdown",
   "id": "794deb80",
   "metadata": {},
   "source": [
    "# Predicting"
   ]
  },
  {
   "cell_type": "code",
   "execution_count": 95,
   "id": "76fb345a",
   "metadata": {},
   "outputs": [],
   "source": [
    "trainPredict = model.predict(trainX)\n",
    "testPredict = model.predict(testX)"
   ]
  },
  {
   "cell_type": "markdown",
   "id": "94d700cc",
   "metadata": {},
   "source": [
    "# Invert Predicting"
   ]
  },
  {
   "cell_type": "code",
   "execution_count": 96,
   "id": "08529ecb",
   "metadata": {},
   "outputs": [],
   "source": [
    "trainPredict = min_max_scaler.inverse_transform(trainPredict)\n",
    "trainY = min_max_scaler.inverse_transform([trainY])\n",
    "testPredict = min_max_scaler.inverse_transform(testPredict)\n",
    "testY = min_max_scaler.inverse_transform([testY])"
   ]
  },
  {
   "cell_type": "markdown",
   "id": "8428261b",
   "metadata": {},
   "source": [
    "# Root mean squared error"
   ]
  },
  {
   "cell_type": "code",
   "execution_count": 99,
   "id": "509bf79b",
   "metadata": {},
   "outputs": [
    {
     "name": "stdout",
     "output_type": "stream",
     "text": [
      "Train Score: 385.79 RMSE\n",
      "Test Score: 8773.16 RMSE\n"
     ]
    }
   ],
   "source": [
    "trainScore = math.sqrt(mean_squared_error(trainY[0], trainPredict[:, 0]))\n",
    "print('Train Score: %.2f RMSE' % (trainScore))\n",
    "testScore = math.sqrt(mean_squared_error(testY[0], testPredict[:, 0]))\n",
    "print('Test Score: %.2f RMSE' % (testScore))"
   ]
  },
  {
   "cell_type": "code",
   "execution_count": 100,
   "id": "b56c368e",
   "metadata": {},
   "outputs": [
    {
     "name": "stdout",
     "output_type": "stream",
     "text": [
      "Train shape: (1829, 1)\n",
      "Test shape: (896, 1)\n"
     ]
    }
   ],
   "source": [
    "\n",
    "print(\"Train shape:\", trainPredict.shape)\n",
    "print(\"Test shape:\", testPredict.shape)"
   ]
  },
  {
   "cell_type": "markdown",
   "id": "d6b0f60a",
   "metadata": {},
   "source": [
    "# Shifting train and test predictions for plotting"
   ]
  },
  {
   "cell_type": "code",
   "execution_count": 101,
   "id": "4f2b3b3f",
   "metadata": {},
   "outputs": [],
   "source": [
    "# shift train predictions for plotting\n",
    "trainPredictPlot = np.empty_like(dataset)\n",
    "trainPredictPlot[:, :] = np.nan\n",
    "trainPredictPlot[look_back:len(trainPredict) + look_back, :] = trainPredict\n",
    " "
   ]
  },
  {
   "cell_type": "code",
   "execution_count": 102,
   "id": "d6897908",
   "metadata": {},
   "outputs": [],
   "source": [
    "testPredictPlot = np.empty_like(dataset)\n",
    "testPredictPlot[:, :] = np.nan\n",
    "testPredictPlot[len(trainPredict) + (look_back * 2) + 1:len(dataset) - 1, :] = testPredict"
   ]
  },
  {
   "cell_type": "code",
   "execution_count": 106,
   "id": "675fdfeb",
   "metadata": {},
   "outputs": [
    {
     "data": {
      "image/png": "[encoded data removed]",
      "text/plain": [
       "<Figure size 1080x504 with 1 Axes>"
      ]
     },
     "metadata": {
      "needs_background": "light"
     },
     "output_type": "display_data"
    }
   ],
   "source": [
    "plt.figure(figsize=(15,7))\n",
    "plt.plot(min_max_scaler.inverse_transform(dataset))\n",
    "plt.plot(trainPredictPlot)\n",
    "plt.plot(testPredictPlot)\n",
    "plt.legend([\"Recorded Price Value\", \"Test Price Predict\", \"Train Price Predict\" ], loc=2)\n",
    "plt.ylabel('Price Value')\n",
    "plt.xlabel('Day')\n",
    "plt.show()"
   ]
  },
  {
   "cell_type": "code",
   "execution_count": null,
   "id": "a72eda7b",
   "metadata": {},
   "outputs": [],
   "source": []
  }
 ],
 "metadata": {
  "kernelspec": {
   "display_name": "Python 3 (ipykernel)",
   "language": "python",
   "name": "python3"
  },
  "language_info": {
   "codemirror_mode": {
    "name": "ipython",
    "version": 3
   },
   "file_extension": ".py",
   "mimetype": "text/x-python",
   "name": "python",
   "nbconvert_exporter": "python",
   "pygments_lexer": "ipython3",
   "version": "3.9.12"
  }
 },
 "nbformat": 4,
 "nbformat_minor": 5
}
